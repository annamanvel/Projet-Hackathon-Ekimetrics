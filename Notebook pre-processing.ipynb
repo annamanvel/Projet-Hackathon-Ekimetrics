{
 "cells": [
  {
   "attachments": {},
   "cell_type": "markdown",
   "id": "b3e8e092",
   "metadata": {},
   "source": [
    "# Import Libraries"
   ]
  },
  {
   "cell_type": "code",
   "execution_count": null,
   "id": "a9153c98",
   "metadata": {},
   "outputs": [],
   "source": [
    "!pip install dalex"
   ]
  },
  {
   "cell_type": "code",
   "execution_count": null,
   "id": "ee3a8b3d",
   "metadata": {},
   "outputs": [],
   "source": [
    "import numpy as np\n",
    "import pandas as pd\n",
    "import matplotlib\n",
    "import matplotlib.pyplot as plt\n",
    "import seaborn as sns\n",
    "import plotly.express as px\n",
    "import sklearn\n",
    "import dalex as dx\n",
    "\n",
    "from copy import copy\n",
    "\n",
    "from sklearn.compose import make_column_transformer, make_column_selector\n",
    "from sklearn.linear_model import LogisticRegression\n",
    "from sklearn.model_selection import train_test_split\n",
    "from sklearn.pipeline import Pipeline\n",
    "from sklearn.preprocessing import StandardScaler, OneHotEncoder\n",
    "from sklearn.tree import DecisionTreeClassifier\n",
    "\n",
    "{\n",
    "    \"numpy\": np.__version__,\n",
    "    \"pandas\": pd.__version__,\n",
    "    \"matplotlib\": matplotlib.__version__,\n",
    "    \"seaborn\": sns.__version__,\n",
    "    \"sklearn\": sklearn.__version__,\n",
    "    \"dalex\": dx.__version__,\n",
    "}"
   ]
  },
  {
   "cell_type": "code",
   "execution_count": null,
   "id": "96853181",
   "metadata": {},
   "outputs": [],
   "source": [
    "df = pd.read_csv(\"./stackoverflow_full.csv\", index_col=0)\n",
    "target = \"Employed\""
   ]
  },
  {
   "attachments": {},
   "cell_type": "markdown",
   "id": "fa5c196a",
   "metadata": {},
   "source": [
    "### Insert here the \"no changes model cells\""
   ]
  },
  {
   "attachments": {},
   "cell_type": "markdown",
   "id": "4d1eeefa",
   "metadata": {},
   "source": [
    "## ML prerequisites"
   ]
  },
  {
   "cell_type": "code",
   "execution_count": null,
   "id": "bfd38312",
   "metadata": {},
   "outputs": [],
   "source": [
    "#split your data set in 2 parts : training and testing\n",
    "\n",
    "X_train, X_test, y_train, y_test = train_test_split(\n",
    "    df.drop(columns=target),\n",
    "    df[target],\n",
    "    test_size=0.3,\n",
    "    random_state=42\n",
    ")"
   ]
  },
  {
   "cell_type": "code",
   "execution_count": null,
   "id": "6208149f",
   "metadata": {},
   "outputs": [],
   "source": [
    "# Protected attribute is 0 if a man or non binary and 0 if a woman plus the age\n",
    "\n",
    "protected = (pd.Series(np.where(X_test[\"Gender\"] == \"Woman\", '1', '0'), index=X_test.index) \n",
    "             + '_' \n",
    "             + X_test.Age)\n",
    "protected_train = (pd.Series(np.where(X_train[\"Gender\"] == \"Woman\", '1', '0').astype(str), index=X_train.index) \n",
    "                   + '_' \n",
    "                   + X_train.Age)\n",
    "\n",
    "# Privileged population is men under 35 years old\n",
    "privileged = '0_<35'"
   ]
  },
  {
   "cell_type": "code",
   "execution_count": null,
   "id": "221ba5f7",
   "metadata": {},
   "outputs": [],
   "source": [
    "preprocessor = make_column_transformer(\n",
    "      (\"passthrough\", make_column_selector(dtype_include=np.number)),\n",
    "      (OneHotEncoder(handle_unknown=\"ignore\"), make_column_selector(dtype_include=object))\n",
    ")\n",
    "\n",
    "#You can change the Decision tree hyperparameters or the classifier below\n",
    "\n",
    "clf_decisiontree = Pipeline(steps=[\n",
    "    ('preprocessor', preprocessor),\n",
    "    ('classifier', DecisionTreeClassifier(max_depth=10, random_state=123))\n",
    "])"
   ]
  },
  {
   "cell_type": "code",
   "execution_count": null,
   "id": "5c8cd4b7",
   "metadata": {},
   "outputs": [],
   "source": [
    "# clf_decisiontree.fit(df.drop(columns=[target]), df[target])\n",
    "clf_decisiontree.fit(X_train, y_train)"
   ]
  },
  {
   "cell_type": "code",
   "execution_count": null,
   "id": "f9964560",
   "metadata": {},
   "outputs": [],
   "source": [
    "# exp_decisiontree = dx.Explainer(clf_decisiontree, df.drop(columns=[target]), df[target], verbose=False)\n",
    "exp_decisiontree = dx.Explainer(clf_decisiontree, X_test, y_test, verbose=True)"
   ]
  },
  {
   "cell_type": "code",
   "execution_count": null,
   "id": "cc91836d",
   "metadata": {},
   "outputs": [],
   "source": [
    "exp_decisiontree.model_performance().result"
   ]
  },
  {
   "cell_type": "code",
   "execution_count": null,
   "id": "733637e6",
   "metadata": {},
   "outputs": [],
   "source": [
    "fairness_decisiontree = exp_decisiontree.model_fairness(protected=protected, privileged=privileged)"
   ]
  },
  {
   "cell_type": "code",
   "execution_count": null,
   "id": "b383e4e4",
   "metadata": {},
   "outputs": [],
   "source": [
    "fairness_decisiontree.fairness_check(epsilon = 0.8) # default epsilon"
   ]
  },
  {
   "cell_type": "code",
   "execution_count": null,
   "id": "b2fed1e6",
   "metadata": {},
   "outputs": [],
   "source": [
    "fairness_decisiontree.plot(verbose=False)"
   ]
  },
  {
   "attachments": {},
   "cell_type": "markdown",
   "id": "ea35ebe1",
   "metadata": {},
   "source": [
    "###"
   ]
  },
  {
   "attachments": {},
   "cell_type": "markdown",
   "id": "74855878",
   "metadata": {},
   "source": [
    "### Strategy 1: Pre-processing: Resampling\n",
    "\n",
    "The next thing that can come to mind is to resample the data. Dalex provide 2 types of resampling methods and 1 reweighting method. In this tutorial only the basic resampling is showed.\n",
    "\n",
    "#### Training"
   ]
  },
  {
   "cell_type": "code",
   "execution_count": null,
   "id": "d8e5506a",
   "metadata": {},
   "outputs": [],
   "source": [
    "preprocessor = make_column_transformer(\n",
    "      (\"passthrough\", make_column_selector(dtype_include=np.number)),\n",
    "      (OneHotEncoder(handle_unknown=\"ignore\"), make_column_selector(dtype_include=object))\n",
    ")\n",
    "\n",
    "#You can change the Decision tree hyperparameters or the classifier below\n",
    "\n",
    "clf_decisiontree = Pipeline(steps=[\n",
    "    ('preprocessor', preprocessor),\n",
    "    ('classifier', DecisionTreeClassifier(max_depth=10, random_state=123))\n",
    "])"
   ]
  },
  {
   "cell_type": "code",
   "execution_count": null,
   "id": "17132c5f",
   "metadata": {},
   "outputs": [],
   "source": [
    "#split your data set in 2 parts : training and testing\n",
    "\n",
    "X_train, X_test, y_train, y_test = train_test_split(\n",
    "    df.drop(columns=target),\n",
    "    df[target],\n",
    "    test_size=0.3,\n",
    "    random_state=42\n",
    ")"
   ]
  },
  {
   "cell_type": "code",
   "execution_count": null,
   "id": "e4f91d62",
   "metadata": {},
   "outputs": [],
   "source": [
    "# clf_decisiontree.fit(df.drop(columns=[target]), df[target])\n",
    "clf_decisiontree.fit(X_train, y_train)"
   ]
  },
  {
   "cell_type": "code",
   "execution_count": null,
   "id": "85306785",
   "metadata": {},
   "outputs": [],
   "source": [
    "from dalex.fairness import resample\n",
    "clf_resampled = copy(clf_decisiontree) # Create a copy to not alter the main object\n",
    "\n",
    "# Resampling observations\n",
    "indices_uniform = resample(protected_train, y_train, verbose = False)\n",
    "\n",
    "# Re-fit model with resampled data\n",
    "clf_resampled.fit(X_train.reset_index(drop=True).iloc[indices_uniform, :], y_train.reset_index(drop=True)[indices_uniform])"
   ]
  },
  {
   "cell_type": "code",
   "execution_count": null,
   "id": "380e02dd",
   "metadata": {},
   "outputs": [],
   "source": [
    "exp_decisiontree_resampled = dx.Explainer(clf_resampled, X_test, y_test, verbose=True)"
   ]
  },
  {
   "attachments": {},
   "cell_type": "markdown",
   "id": "34050653",
   "metadata": {},
   "source": [
    "#### Algorithmic performance"
   ]
  },
  {
   "cell_type": "code",
   "execution_count": null,
   "id": "a8b2a621",
   "metadata": {},
   "outputs": [],
   "source": [
    "exp_decisiontree_resampled.model_performance().result"
   ]
  },
  {
   "attachments": {},
   "cell_type": "markdown",
   "id": "ce1d72e1",
   "metadata": {},
   "source": [
    "#### Fairness performance"
   ]
  },
  {
   "cell_type": "code",
   "execution_count": null,
   "id": "4fed54dd",
   "metadata": {},
   "outputs": [],
   "source": [
    "fairness_decisiontree_resampled = exp_decisiontree_resampled.model_fairness(\n",
    "    protected, privileged, label='DecisionTreeClassifier_resampled')\n",
    "\n",
    "fairness_decisiontree_resampled.fairness_check(epsilon = 0.8)\n"
   ]
  },
  {
   "attachments": {},
   "cell_type": "markdown",
   "id": "e0f2f36f",
   "metadata": {},
   "source": [
    "__Compare performance of the first model and the resampled one (visually)__"
   ]
  },
  {
   "cell_type": "code",
   "execution_count": null,
   "id": "f661a5c7",
   "metadata": {},
   "outputs": [],
   "source": [
    "fairness_decisiontree.plot([fairness_decisiontree_resampled])"
   ]
  },
  {
   "cell_type": "code",
   "execution_count": null,
   "id": "a4d63dfd",
   "metadata": {},
   "outputs": [],
   "source": [
    "fairness_decisiontree.plot([fairness_decisiontree_resampled], type='radar')"
   ]
  },
  {
   "attachments": {},
   "cell_type": "markdown",
   "id": "779d2e07",
   "metadata": {},
   "source": [
    "- Is this strategy effective in terms of algorithmic performance?\n",
    "- What comment can you make based on the fairness metric result?\n",
    "- Could you think of a way to improve this strategy (not necessarly on python but as a complementary idea to this solution)?\n",
    "\n",
    "If you have more time or wish to compare, feel free to try the other strategies and compare the results (you can plot the fairness metrics to have a visual comparison)."
   ]
  }
 ],
 "metadata": {
  "kernelspec": {
   "display_name": "Python 3 (ipykernel)",
   "language": "python",
   "name": "python3"
  },
  "language_info": {
   "codemirror_mode": {
    "name": "ipython",
    "version": 3
   },
   "file_extension": ".py",
   "mimetype": "text/x-python",
   "name": "python",
   "nbconvert_exporter": "python",
   "pygments_lexer": "ipython3",
   "version": "3.9.16"
  }
 },
 "nbformat": 4,
 "nbformat_minor": 5
}
